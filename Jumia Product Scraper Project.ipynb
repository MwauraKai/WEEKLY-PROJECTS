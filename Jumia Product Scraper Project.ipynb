{
 "cells": [
  {
   "cell_type": "code",
   "execution_count": 1,
   "metadata": {},
   "outputs": [],
   "source": [
    "import requests\n",
    "from bs4 import BeautifulSoup"
   ]
  },
  {
   "cell_type": "code",
   "execution_count": 2,
   "metadata": {},
   "outputs": [
    {
     "data": {
      "text/plain": [
       "<Response [200]>"
      ]
     },
     "execution_count": 2,
     "metadata": {},
     "output_type": "execute_result"
    }
   ],
   "source": [
    "# This is the URL of the Jumia search results page I want to scrape\n",
    "url = \"https://www.jumia.co.ke/catalog/?q=laptop\"  #Replace \"laptop\" with any other keyword to scrape different products.\n",
    "requests.get(url)"
   ]
  },
  {
   "cell_type": "code",
   "execution_count": 4,
   "metadata": {},
   "outputs": [],
   "source": [
    "response=requests.get(url)  #Sends a request to the server hosting the Jumia website."
   ]
  },
  {
   "cell_type": "code",
   "execution_count": null,
   "metadata": {},
   "outputs": [],
   "source": [
    "soup=BeautifulSoup(response.content,'html.parser')  #Converts the raw HTML content into a structured format that we can easily navigate."
   ]
  },
  {
   "cell_type": "code",
   "execution_count": 23,
   "metadata": {},
   "outputs": [
    {
     "name": "stdout",
     "output_type": "stream",
     "text": [
      "Product Titles:\n",
      "1 Lenovo Refurbished Thinkpad Intel Core I5 8 GB RAM 500 GB HDD 12.5'' Black  (6 Months WRTY)\n",
      "2 Lenovo Refurbished ThinkPad Yoga 11e  X360 Intel -Touchscreen- 11.6\"- 4GB RAM - SSD 128GB - Black\n",
      "3 HP Chromebook 11 G6 EE, Intel Celeron Dual N3350 , Storage 4GB RAM/16GB SSD, TYPE C, WIFI, Bluetooth, Camera , Chrome OS,  Black Refurb  (6 Months WRTY)\n",
      "4 Lenovo Refurbished Thinkpad 11E  Celeron - 4 GB RAM - SSD 128GB 11.6'' - Black  (6 Months WRTY)\n",
      "5 HP EliteBook 820 G1 Intel Core I5 6th Gen 8GB RAM 256GB SSD 12.5 Inches\n",
      "6 Lenovo Refurbished Thinkpad X250 Intel Core I5 8 GB RAM 256GB SSD 12.5'' Black  (6 Months WRTY)\n",
      "7 DELL Chromebook 3180 Laptop Computer, 11.6 Inch Laptop PC, Intel Celeron N3060, 4GB RAM, 16GB SSD, Web Camera, Wi-Fi, Bluetooth, HDMI, Chrome OS, Refurb\n",
      "8 Lenovo ThinkPad X260 Intel Core I5, 8GB RAM, 256GB SSD, 12.5'' REFURBISHED\n",
      "9 HP 11 G6 EE 11.6\" LCD Chromebook - Intel Celeron N3350 Dual-core - 4GB LPDDR4 -16GB SSD - WiFi- Camera - Type C- Chrome OS - Refurb  (6 Months WRTY)\n",
      "10 X Tigi HeroBook 10.1\"- Android - Quad Core-3Gb RAM-64Gb ROM- 4000mAh-12 Months Warranty\n",
      "11 HP Refurbished EliteBook 840, Intel Core I7, 500 HDD +  8GB RAM - Black\n",
      "12 HP Refurbished EliteBook 8470p Core I5 - HDD 500GB - 8GB RAM WIFI CAM Silver - 14\" (6 Months WRTY)\n",
      "13 DELL  Latitude E7250-Core i5- 8GB Ram -256GB SSD-5th Gen-Refurbished- Win 10-13\" -Black\n",
      "14 Lenovo Refurbished 8GB RAM, 500GB Hard Disk, X131e 12.5'' Screen Display, HDMI Port & Bluetooth,Webcam, Windows 11 PRO Activated, Office & Basic Software Installed + Free Bag + Charger + Free Wireless Mouse + Free Extension\n",
      "15 Samsung Chromebook XE310 – Intel Celeron N4000 - 11.6\" HD Screen, Storage 4GB RAM  16GB SSD /  ,Bluetooth, Type C – Camera - Chrome OS - Refurb  (6 Months WRTY)\n",
      "16 HP Refurbished Elitebook 820  Core  I5, 8GB RAM 500GB  HDD -12.5\", Black  (6 Months WRTY)\n",
      "17 Lenovo  8GB RAM, 500GB Hard disk, X131e 12.5'' Screen Display, HDMI Port & Bluetooth,Webcam, Windows 11 PRO Activated, Office & Basic software Installed + Free Bag + Charger + Free wireless Mouse + Free Extension\n",
      "18 HP EliteBook 840 G4 Intel Core I7 7Th Gen,16GB Ram,256GB SSD, Windows 10 Pro\n",
      "19 HP 6th Gen 640  Refurbished Intel Core I5 ProBook 500GB HDD 8GB RAM\n",
      "20 Lenovo Refurbished Thinkpad X250 Intel Core I5 8 GB RAM 500 GB HDD 12.5'' Black  (6 Months WRTY)\n",
      "21 HP HP REFURBISHED ELITEBOOK 840 G3 CORE I5 8GB 256GB SSD 14'' 6TH GEN (6Months WRTY)\n",
      "22 HP  Chromebook Laptop 11 G5 11.6\" TOUCH - Intel Celeron –4GB RAM –16GB SSD eMMC- HDMI - HD Camera - Refurb - Touchscreen\n",
      "23 Lenovo IdeaPad 1, Intel Celeron N4020, 8GB RAM, 256GB SSD, 14\" HD Display, Windows 11 Pro, Cloud Grey+Bag+Flash+Mouse (1YR WRTY)\n",
      "24 HP Chromebook 11 G7 - Intel Celeron - 4GB RAM - Type C - WiFi -Webcam - Bluetooth - Chrome OS – Refurb. (6Months WRTY)\n",
      "25 HP EliteBook 820 G1 Core I5 8GB RAM 500gb Hdd Slim Ultrabook Laptop Refurbished,  (6 Months WRTY)\n",
      "26 Lenovo Refurbished Thinkpad X131e - 11.6\" - Intel Dual-Ccore - 4GB RAM - 320GB HDD - Black (6 Months WRTY)\n",
      "27 HP Refurbished EliteBook 8470p Core I5 - HDD 1TB - 8GB RAM WIFI CAM Silver - 14\" (6 Months WRTY)\n",
      "28 HP Refurbished Probook 430 G5 Intel(R) Core(TM) I5 7th Gen 8 GB RAM 128 SSD Windows 10 14\"\n",
      "29 Acer  11.6\" HD Touchscreen Chromebook C731 – C734T - HD - Intel Celeron  Dual-core - 4 GB RAM - 32 GB SSD Flash Memory  - Intel UHD Graphics – Wifi, HDMI , Bluetooth, Camera Playstore Chrome OS Refurb\n",
      "30 Lenovo Refurbished Thinkpad X250 Intel Core I5 4 GB RAM 500 GB HDD 12.5'' Black  (6 Months WRTY)\n",
      "31 HP Refurbished Probook 640   Core I5   500 HDD- 8GB RAM -14\"  - Black  (6 Months WRTY)\n",
      "32 HP  Touchscreen Chromebook Laptop 11 G5 11.6\" - Intel Celeron N3060 – Storage 4GB RAM – 16GB SSD eMMC- HDMI - HD Camera - Refurb\n",
      "33 Lenovo IdeaPad 1, Intel Celeron N4020, 8GB RAM, 256GB SSD, 14\" HD Display, Windows 11 Pro, Cloud Grey (1YR WRTY)\n",
      "34 HP Refurbished EliteBook 840 G5 Core I7 16GB 256GB SSD 8th Gen 14 Inch Ultrabook Laptop (6 Months WRTY)\n",
      "35 HP EliteBook 820 G3 Intel Core I7 6th Gen 8GB RAM 256GB SSD 12.5 Inches\n",
      "36 HP 500GB HDD 8GB RAM Refurbished ProBook 640 14 Intel Core I5 Windows 10\n",
      "37 Lenovo ThinkPad T490 Touchscreen Core I5 -8th Gen-8GB RAM-256GB SSD-Refurbished 14\"-Black-Win 11 (6 Months WRTY)\n",
      "38 HP Refurbished EliteBook 840 G3 Intel Core I5 6th Gen 8GB, 128 GB SSD 500GB HDD WIN 10 Trial\n",
      "39 HP Refurbished 6th Generation EliteBook 840 G3 Core I5-8GB - 256GB Ssd - Win 10 - Silver\n",
      "40 X Tigi HeroBook 10.1\"- Quad Core - 4Gb RAM -128Gb ROM -Android Notebook- 4000mAh-13 Months Warranty\n"
     ]
    }
   ],
   "source": [
    "products=soup.find_all('h3', class_='name') #Finds all the product names on the page.\n",
    "\n",
    "print(\"Product Titles:\")\n",
    "for index, product in enumerate(products, start=1):\n",
    "    print(index, product.text)\n"
   ]
  },
  {
   "cell_type": "code",
   "execution_count": 21,
   "metadata": {},
   "outputs": [
    {
     "name": "stdout",
     "output_type": "stream",
     "text": [
      "1 Lenovo Refurbished Thinkpad Intel Core I5 8 GB RAM 500 GB HDD 12.5'' Black  (6 Months WRTY)\n",
      "2 HP Refurbished Elitebook 820  Core  I5, 8GB RAM 500GB  HDD -12.5\", Black  (6 Months WRTY)\n",
      "3 HP 6th Gen 640  Refurbished Intel Core I5 ProBook 500GB HDD 8GB RAM\n",
      "4 Lenovo Refurbished Thinkpad X250 Intel Core I5 8 GB RAM 500 GB HDD 12.5'' Black  (6 Months WRTY)\n",
      "5 HP 500GB HDD 8GB RAM Refurbished ProBook 640 14 Intel Core I5 Windows 10\n"
     ]
    }
   ],
   "source": [
    "import re\n",
    "\n",
    "# Function to filter products based on RAM and storage\n",
    "def filter_laptops(products, min_ram=8, min_storage=500):\n",
    "    filtered_products = []\n",
    "    \n",
    "    for product in products:\n",
    "        # Extract text from the Tag object\n",
    "        product_text = product.get_text() if hasattr(product, 'get_text') else str(product)\n",
    "        \n",
    "        # Search for RAM (e.g., 8GB or greater)\n",
    "        ram_match = re.search(r'(\\d+)\\s*GB\\s*RAM', product_text)\n",
    "        # Search for Storage (e.g., 500GB or greater)\n",
    "        storage_match = re.search(r'(\\d+)\\s*(GB|TB)\\s*(HDD|SSD)', product_text)\n",
    "        \n",
    "        if ram_match and storage_match:\n",
    "            ram = int(ram_match.group(1))\n",
    "            storage = int(storage_match.group(1))\n",
    "            storage_unit = storage_match.group(2)\n",
    "            \n",
    "            # Convert storage to GB if it's in TB\n",
    "            if storage_unit == 'TB':\n",
    "                storage *= 1024\n",
    "            \n",
    "            # Check if RAM is equal to or greater than the minimum specified\n",
    "            # and storage is equal to or greater than the minimum specified\n",
    "            if ram >= min_ram and storage >= min_storage:\n",
    "                filtered_products.append(product_text)\n",
    "    \n",
    "    return filtered_products\n",
    "\n",
    "# Apply the filter\n",
    "filtered_results = filter_laptops(products)\n",
    "for results in filtered_results:\n",
    "  print(filtered_results.index(results)+1,results)"
   ]
  },
  {
   "cell_type": "code",
   "execution_count": null,
   "metadata": {},
   "outputs": [],
   "source": []
  }
 ],
 "metadata": {
  "kernelspec": {
   "display_name": ".venv",
   "language": "python",
   "name": "python3"
  },
  "language_info": {
   "codemirror_mode": {
    "name": "ipython",
    "version": 3
   },
   "file_extension": ".py",
   "mimetype": "text/x-python",
   "name": "python",
   "nbconvert_exporter": "python",
   "pygments_lexer": "ipython3",
   "version": "3.13.1"
  }
 },
 "nbformat": 4,
 "nbformat_minor": 2
}
